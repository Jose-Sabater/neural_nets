{
 "cells": [
  {
   "cell_type": "code",
   "execution_count": 54,
   "metadata": {},
   "outputs": [
    {
     "name": "stdout",
     "output_type": "stream",
     "text": [
      "The lab_black extension is already loaded. To reload it, use:\n",
      "  %reload_ext lab_black\n"
     ]
    },
    {
     "data": {
      "text/plain": [
       "<torch._C.Generator at 0x1d0508ab230>"
      ]
     },
     "execution_count": 54,
     "metadata": {},
     "output_type": "execute_result"
    }
   ],
   "source": [
    "import matplotlib.pyplot as plt\n",
    "\n",
    "%matplotlib inline\n",
    "%load_ext lab_black\n",
    "import torchvision\n",
    "import numpy as np\n",
    "import torch\n",
    "import torch.nn as nn\n",
    "import torch.nn.functional as F\n",
    "import torch.optim as optim\n",
    "\n",
    "random_seed = 1\n",
    "torch.manual_seed(random_seed)"
   ]
  },
  {
   "cell_type": "code",
   "execution_count": 55,
   "metadata": {},
   "outputs": [],
   "source": [
    "batch_size = 64"
   ]
  },
  {
   "cell_type": "code",
   "execution_count": 56,
   "metadata": {},
   "outputs": [
    {
     "name": "stdout",
     "output_type": "stream",
     "text": [
      "mean:0.1309\n",
      "standard deviation:0.3084\n"
     ]
    }
   ],
   "source": [
    "# To normalize we need the mean and std of our dataset\n",
    "from tensorflow.keras.datasets import mnist\n",
    "\n",
    "# Load,and set train and test data\n",
    "(X_train, y_train), (X_test, y_test) = mnist.load_data()\n",
    "dataset = np.concatenate((X_train, X_test), axis=0)\n",
    "dataset = dataset / 255\n",
    "dataset_mean = dataset.mean()\n",
    "dataset_std = dataset.std()\n",
    "print(f\"mean:{round(dataset_mean,4)}\")\n",
    "print(f\"standard deviation:{round(dataset_std,4)}\")"
   ]
  },
  {
   "cell_type": "code",
   "execution_count": 57,
   "metadata": {},
   "outputs": [],
   "source": [
    "# Load,and set train and test data\n",
    "# Normalize the dataset\n",
    "train_loader = torch.utils.data.DataLoader(\n",
    "    torchvision.datasets.MNIST(\n",
    "        \"/files/\",\n",
    "        train=True,\n",
    "        download=True,\n",
    "        transform=torchvision.transforms.Compose(\n",
    "            [\n",
    "                torchvision.transforms.ToTensor(),\n",
    "                torchvision.transforms.Normalize((dataset_mean,), (dataset_std,)),\n",
    "            ]\n",
    "        ),\n",
    "    ),\n",
    "    batch_size=batch_size,\n",
    "    shuffle=True,\n",
    "    num_workers=2,\n",
    ")\n",
    "\n",
    "test_loader = torch.utils.data.DataLoader(\n",
    "    torchvision.datasets.MNIST(\n",
    "        \"/files/\",\n",
    "        train=False,\n",
    "        download=True,\n",
    "        transform=torchvision.transforms.Compose(\n",
    "            [\n",
    "                torchvision.transforms.ToTensor(),\n",
    "                torchvision.transforms.Normalize((dataset_mean,), (dataset_std,)),\n",
    "            ]\n",
    "        ),\n",
    "    ),\n",
    "    batch_size=batch_size,\n",
    "    shuffle=True,\n",
    ")"
   ]
  },
  {
   "cell_type": "code",
   "execution_count": 58,
   "metadata": {},
   "outputs": [],
   "source": [
    "examples = enumerate(train_loader)\n",
    "batch_idx, (example_data, example_targets) = next(examples)"
   ]
  },
  {
   "cell_type": "code",
   "execution_count": 59,
   "metadata": {},
   "outputs": [
    {
     "data": {
      "image/png": "[encoded data removed]",
      "text/plain": [
       "<Figure size 432x288 with 6 Axes>"
      ]
     },
     "execution_count": 59,
     "metadata": {},
     "output_type": "execute_result"
    },
    {
     "data": {
      "image/png": "[encoded data removed]",
      "text/plain": [
       "<Figure size 432x288 with 6 Axes>"
      ]
     },
     "metadata": {},
     "output_type": "display_data"
    }
   ],
   "source": [
    "import matplotlib.pyplot as plt\n",
    "\n",
    "fig = plt.figure()\n",
    "for i in range(6):\n",
    "    plt.subplot(2, 3, i + 1)\n",
    "    plt.tight_layout()\n",
    "    plt.imshow(example_data[i][0], cmap=\"gray\", interpolation=\"none\")\n",
    "    plt.title(f\"Ground Truth: {example_targets[i]}\")\n",
    "    plt.xticks([])\n",
    "    plt.yticks([])\n",
    "fig"
   ]
  },
  {
   "cell_type": "code",
   "execution_count": 60,
   "metadata": {},
   "outputs": [
    {
     "name": "stdout",
     "output_type": "stream",
     "text": [
      "Batch: 1\n",
      "X shape: torch.Size([64, 1, 28, 28])\n",
      "y shape: torch.Size([64])\n"
     ]
    }
   ],
   "source": [
    "for batch, (X, y) in enumerate(train_loader):\n",
    "    print(f\"Batch: {batch+1}\")\n",
    "    print(f\"X shape: {X.shape}\")\n",
    "    print(f\"y shape: {y.shape}\")\n",
    "    break"
   ]
  },
  {
   "cell_type": "code",
   "execution_count": 71,
   "metadata": {},
   "outputs": [],
   "source": [
    "class NeuralNetwork(nn.Module):\n",
    "    def __init__(self) -> None:\n",
    "        super(NeuralNetwork, self).__init__()\n",
    "        # Default padding=0 and stride =1\n",
    "        self.conv1 = nn.Conv2d(1, 10, kernel_size=5)\n",
    "        self.conv2 = nn.Conv2d(10, 20, kernel_size=5)\n",
    "        self.conv2_dropout = nn.Dropout2d()\n",
    "        self.fc1 = nn.Linear(320, 50)\n",
    "        self.fc2 = nn.Linear(50, 10)\n",
    "\n",
    "    def forward(self, x):\n",
    "        # input shape: [64, 1, 28, 28]\n",
    "        # output shape: [64, 10, 24, 24]\n",
    "        x = F.relu(F.max_pool2d(self.conv1(x), 2))\n",
    "\n",
    "        # input shape: [64, 10, 12, 12] (stride for pooling counts as kernel size)\n",
    "        # output shape: [64, 20, 8, 8]\n",
    "        x = F.relu(F.max_pool2d(self.conv2_dropout(self.conv2(x)), 2))\n",
    "        \n",
    "        # flatten input shape: [64, 20, 4, 4]\n",
    "        # output shape: [64, 320]\n",
    "        x = x.view(-1, 320)\n",
    "        \n",
    "        # input shape: [64, 320]\n",
    "        # output shape: [64, 50]\n",
    "        x = F.relu(self.fc1(x))\n",
    "        x = F.dropout(x, training=self.training)\n",
    "        \n",
    "        # input shape: [64, 50]\n",
    "        # output shape: [64, 10]\n",
    "        x = self.fc2(x)\n",
    "        softmax = F.log_softmax(x, 1)\n",
    "        return softmax"
   ]
  },
  {
   "cell_type": "code",
   "execution_count": 98,
   "metadata": {},
   "outputs": [],
   "source": [
    "class NeuralNetwork(nn.Module):\n",
    "    def __init__(self) -> None:\n",
    "        super(NeuralNetwork, self).__init__()\n",
    "        # Default padding=0 and stride =1\n",
    "        self.conv1 = nn.Conv2d(1, 20, kernel_size=5)\n",
    "        self.conv2 = nn.Conv2d(20, 30, kernel_size=5)\n",
    "        self.conv2_dropout = nn.Dropout2d()\n",
    "        self.fc1 = nn.Linear(480, 60)\n",
    "        self.fc2 = nn.Linear(60, 10)\n",
    "\n",
    "    def forward(self, x):\n",
    "        # input shape: [64, 1, 28, 28]\n",
    "        # output shape: [64, 10, 24, 24]\n",
    "        x = F.relu(F.max_pool2d(self.conv1(x), 2))\n",
    "\n",
    "        # input shape: [64, 10, 12, 12] (stride for pooling counts as kernel size)\n",
    "        # output shape: [64, 20, 8, 8]\n",
    "        x = F.relu(F.max_pool2d(self.conv2_dropout(self.conv2(x)), 2))\n",
    "        # flatten input shape: [64, 20, 4, 4]\n",
    "        # output shape: [64, 320]\n",
    "        x = x.view(-1, 480)\n",
    "\n",
    "        # input shape: [64, 320]\n",
    "        # output shape: [64, 50]\n",
    "        x = F.relu(self.fc1(x))\n",
    "        x = F.dropout(x, training=self.training)\n",
    "\n",
    "        # input shape: [64, 50]\n",
    "        # output shape: [64, 10]\n",
    "        x = self.fc2(x)\n",
    "        softmax = F.log_softmax(x, 1)\n",
    "        return softmax"
   ]
  },
  {
   "cell_type": "code",
   "execution_count": 99,
   "metadata": {},
   "outputs": [],
   "source": [
    "# Hyperparameters\n",
    "epochs = 100\n",
    "learning_rate = 0.01\n",
    "momentum = 0.5\n",
    "log_interval = 10\n",
    "\n",
    "network = NeuralNetwork()\n",
    "optimizer = optim.SGD(network.parameters(), lr=learning_rate, momentum=momentum)"
   ]
  },
  {
   "cell_type": "code",
   "execution_count": 100,
   "metadata": {},
   "outputs": [],
   "source": [
    "train_losses = []\n",
    "train_counter = []\n",
    "test_losses = []\n",
    "test_counter = [i * len(train_loader.dataset) for i in range(epochs + 1)]"
   ]
  },
  {
   "cell_type": "code",
   "execution_count": 101,
   "metadata": {},
   "outputs": [],
   "source": [
    "def train(epoch):\n",
    "    network.train()\n",
    "    for batch_idx, (data, target) in enumerate(train_loader):\n",
    "        optimizer.zero_grad()\n",
    "        output = network(data)\n",
    "        loss = F.nll_loss(output, target)\n",
    "        loss.backward()\n",
    "        optimizer.step()\n",
    "        if batch_idx % log_interval == 0:\n",
    "            print(\n",
    "                f\"Train Epoch: {epoch} [{batch_idx*len(data)}/{len(train_loader.dataset)} ({100.0 * batch_idx / len(train_loader)}%)]\\tLoss: {loss.item()}\",\n",
    "            )\n",
    "            train_losses.append(loss.item())\n",
    "            train_counter.append(\n",
    "                (batch_idx * 64) + ((epoch - 1) * len(train_loader.dataset))\n",
    "            )\n",
    "            torch.save(network.state_dict(), \"./results/model.pth\")\n",
    "            torch.save(optimizer.state_dict(), \"./results/optimizer.pth\")"
   ]
  },
  {
   "cell_type": "code",
   "execution_count": 102,
   "metadata": {},
   "outputs": [],
   "source": [
    "def test():\n",
    "    network.eval()\n",
    "    test_loss = 0\n",
    "    correct = 0\n",
    "    with torch.no_grad():\n",
    "        for data, target in test_loader:\n",
    "            output = network(data)\n",
    "            test_loss += F.nll_loss(output, target, size_average=False).item()\n",
    "            pred = output.data.max(1, keepdim=True)[1]\n",
    "            correct += pred.eq(target.data.view_as(pred)).sum()\n",
    "    test_loss /= len(test_loader.dataset)\n",
    "    test_losses.append(test_loss)\n",
    "    print(\n",
    "        f\"\\nTest set: Avg. loss: {test_loss}, Accuracy: {correct}/{len(test_loader.dataset)} ({100.0 * correct / len(test_loader.dataset)}%)\\n\"\n",
    "    )"
   ]
  },
  {
   "cell_type": "code",
   "execution_count": 111,
   "metadata": {},
   "outputs": [
    {
     "name": "stderr",
     "output_type": "stream",
     "text": [
      "c:\\Users\\jsandh\\AppData\\Local\\Programs\\Python\\Python38\\lib\\site-packages\\torch\\nn\\_reduction.py:42: UserWarning: size_average and reduce args will be deprecated, please use reduction='sum' instead.\n",
      "  warnings.warn(warning.format(ret))\n"
     ]
    },
    {
     "name": "stdout",
     "output_type": "stream",
     "text": [
      "\n",
      "Test set: Avg. loss: 0.06889941681921483, Accuracy: 9778/10000 (97.77999877929688%)\n",
      "\n",
      "Train Epoch: 1 [0/60000 (0.0%)]\tLoss: 0.15788458287715912\n",
      "Train Epoch: 1 [640/60000 (1.0660980810234542%)]\tLoss: 0.20361953973770142\n",
      "Train Epoch: 1 [1280/60000 (2.1321961620469083%)]\tLoss: 0.12890039384365082\n",
      "Train Epoch: 1 [1920/60000 (3.1982942430703623%)]\tLoss: 0.27999523282051086\n",
      "Train Epoch: 1 [2560/60000 (4.264392324093817%)]\tLoss: 0.32116708159446716\n",
      "Train Epoch: 1 [3200/60000 (5.330490405117271%)]\tLoss: 0.4109933376312256\n",
      "Train Epoch: 1 [3840/60000 (6.3965884861407245%)]\tLoss: 0.18717557191848755\n",
      "Train Epoch: 1 [4480/60000 (7.462686567164179%)]\tLoss: 0.26569685339927673\n",
      "Train Epoch: 1 [5120/60000 (8.528784648187633%)]\tLoss: 0.1343555748462677\n",
      "Train Epoch: 1 [5760/60000 (9.594882729211088%)]\tLoss: 0.16792520880699158\n",
      "Train Epoch: 1 [6400/60000 (10.660980810234541%)]\tLoss: 0.1803053915500641\n",
      "Train Epoch: 1 [7040/60000 (11.727078891257996%)]\tLoss: 0.1850898712873459\n",
      "Train Epoch: 1 [7680/60000 (12.793176972281449%)]\tLoss: 0.2712690830230713\n",
      "Train Epoch: 1 [8320/60000 (13.859275053304904%)]\tLoss: 0.08856181800365448\n",
      "Train Epoch: 1 [8960/60000 (14.925373134328359%)]\tLoss: 0.2542029917240143\n",
      "Train Epoch: 1 [9600/60000 (15.991471215351812%)]\tLoss: 0.2677299380302429\n",
      "Train Epoch: 1 [10240/60000 (17.057569296375267%)]\tLoss: 0.22825612127780914\n",
      "Train Epoch: 1 [10880/60000 (18.12366737739872%)]\tLoss: 0.27553531527519226\n",
      "Train Epoch: 1 [11520/60000 (19.189765458422176%)]\tLoss: 0.09116599708795547\n",
      "Train Epoch: 1 [12160/60000 (20.255863539445627%)]\tLoss: 0.2785910367965698\n",
      "Train Epoch: 1 [12800/60000 (21.321961620469082%)]\tLoss: 0.2916754484176636\n",
      "Train Epoch: 1 [13440/60000 (22.388059701492537%)]\tLoss: 0.12549231946468353\n",
      "Train Epoch: 1 [14080/60000 (23.454157782515992%)]\tLoss: 0.12183168530464172\n",
      "Train Epoch: 1 [14720/60000 (24.520255863539447%)]\tLoss: 0.19883304834365845\n",
      "Train Epoch: 1 [15360/60000 (25.586353944562898%)]\tLoss: 0.11107616871595383\n",
      "Train Epoch: 1 [16000/60000 (26.652452025586353%)]\tLoss: 0.1864822953939438\n",
      "Train Epoch: 1 [16640/60000 (27.718550106609808%)]\tLoss: 0.11404567956924438\n",
      "Train Epoch: 1 [17280/60000 (28.784648187633262%)]\tLoss: 0.0691404640674591\n",
      "Train Epoch: 1 [17920/60000 (29.850746268656717%)]\tLoss: 0.2725084722042084\n",
      "Train Epoch: 1 [18560/60000 (30.916844349680172%)]\tLoss: 0.1239892765879631\n",
      "Train Epoch: 1 [19200/60000 (31.982942430703623%)]\tLoss: 0.20945997536182404\n",
      "Train Epoch: 1 [19840/60000 (33.04904051172708%)]\tLoss: 0.30769264698028564\n",
      "Train Epoch: 1 [20480/60000 (34.11513859275053%)]\tLoss: 0.21809886395931244\n",
      "Train Epoch: 1 [21120/60000 (35.18123667377399%)]\tLoss: 0.23066413402557373\n",
      "Train Epoch: 1 [21760/60000 (36.24733475479744%)]\tLoss: 0.24489842355251312\n",
      "Train Epoch: 1 [22400/60000 (37.3134328358209%)]\tLoss: 0.19699306786060333\n",
      "Train Epoch: 1 [23040/60000 (38.37953091684435%)]\tLoss: 0.2855808734893799\n",
      "Train Epoch: 1 [23680/60000 (39.44562899786781%)]\tLoss: 0.23834025859832764\n",
      "Train Epoch: 1 [24320/60000 (40.511727078891255%)]\tLoss: 0.14118051528930664\n",
      "Train Epoch: 1 [24960/60000 (41.57782515991471%)]\tLoss: 0.26096034049987793\n",
      "Train Epoch: 1 [25600/60000 (42.643923240938165%)]\tLoss: 0.09581500291824341\n",
      "Train Epoch: 1 [26240/60000 (43.71002132196162%)]\tLoss: 0.055131033062934875\n",
      "Train Epoch: 1 [26880/60000 (44.776119402985074%)]\tLoss: 0.13015609979629517\n",
      "Train Epoch: 1 [27520/60000 (45.84221748400853%)]\tLoss: 0.2487984597682953\n",
      "Train Epoch: 1 [28160/60000 (46.908315565031984%)]\tLoss: 0.12734436988830566\n",
      "Train Epoch: 1 [28800/60000 (47.97441364605544%)]\tLoss: 0.21237698197364807\n",
      "Train Epoch: 1 [29440/60000 (49.04051172707889%)]\tLoss: 0.13874602317810059\n",
      "Train Epoch: 1 [30080/60000 (50.10660980810235%)]\tLoss: 0.21478286385536194\n",
      "Train Epoch: 1 [30720/60000 (51.172707889125796%)]\tLoss: 0.18646767735481262\n",
      "Train Epoch: 1 [31360/60000 (52.23880597014925%)]\tLoss: 0.4457715153694153\n",
      "Train Epoch: 1 [32000/60000 (53.304904051172706%)]\tLoss: 0.19678685069084167\n",
      "Train Epoch: 1 [32640/60000 (54.37100213219616%)]\tLoss: 0.26634666323661804\n",
      "Train Epoch: 1 [33280/60000 (55.437100213219615%)]\tLoss: 0.18353824317455292\n",
      "Train Epoch: 1 [33920/60000 (56.50319829424307%)]\tLoss: 0.09032271802425385\n",
      "Train Epoch: 1 [34560/60000 (57.569296375266525%)]\tLoss: 0.1767617166042328\n",
      "Train Epoch: 1 [35200/60000 (58.63539445628998%)]\tLoss: 0.1679086536169052\n",
      "Train Epoch: 1 [35840/60000 (59.701492537313435%)]\tLoss: 0.24179619550704956\n",
      "Train Epoch: 1 [36480/60000 (60.76759061833689%)]\tLoss: 0.04780970513820648\n",
      "Train Epoch: 1 [37120/60000 (61.833688699360344%)]\tLoss: 0.3209788203239441\n"
     ]
    },
    {
     "ename": "KeyboardInterrupt",
     "evalue": "",
     "output_type": "error",
     "traceback": [
      "\u001b[1;31m---------------------------------------------------------------------------\u001b[0m",
      "\u001b[1;31mKeyboardInterrupt\u001b[0m                         Traceback (most recent call last)",
      "\u001b[1;32mc:\\Users\\jsandh\\Documents\\JMS\\neural_n\\pytorch_simple\\sample_network_basic.ipynb Cell 14\u001b[0m in \u001b[0;36m<cell line: 2>\u001b[1;34m()\u001b[0m\n\u001b[0;32m      <a href='vscode-notebook-cell:/c%3A/Users/jsandh/Documents/JMS/neural_n/pytorch_simple/sample_network_basic.ipynb#X15sZmlsZQ%3D%3D?line=0'>1</a>\u001b[0m test()\n\u001b[0;32m      <a href='vscode-notebook-cell:/c%3A/Users/jsandh/Documents/JMS/neural_n/pytorch_simple/sample_network_basic.ipynb#X15sZmlsZQ%3D%3D?line=1'>2</a>\u001b[0m \u001b[39mfor\u001b[39;00m epoch \u001b[39min\u001b[39;00m \u001b[39mrange\u001b[39m(\u001b[39m1\u001b[39m, epochs \u001b[39m+\u001b[39m \u001b[39m1\u001b[39m):\n\u001b[1;32m----> <a href='vscode-notebook-cell:/c%3A/Users/jsandh/Documents/JMS/neural_n/pytorch_simple/sample_network_basic.ipynb#X15sZmlsZQ%3D%3D?line=2'>3</a>\u001b[0m     train(epoch)\n\u001b[0;32m      <a href='vscode-notebook-cell:/c%3A/Users/jsandh/Documents/JMS/neural_n/pytorch_simple/sample_network_basic.ipynb#X15sZmlsZQ%3D%3D?line=3'>4</a>\u001b[0m     test()\n",
      "\u001b[1;32mc:\\Users\\jsandh\\Documents\\JMS\\neural_n\\pytorch_simple\\sample_network_basic.ipynb Cell 14\u001b[0m in \u001b[0;36mtrain\u001b[1;34m(epoch)\u001b[0m\n\u001b[0;32m      <a href='vscode-notebook-cell:/c%3A/Users/jsandh/Documents/JMS/neural_n/pytorch_simple/sample_network_basic.ipynb#X15sZmlsZQ%3D%3D?line=4'>5</a>\u001b[0m output \u001b[39m=\u001b[39m network(data)\n\u001b[0;32m      <a href='vscode-notebook-cell:/c%3A/Users/jsandh/Documents/JMS/neural_n/pytorch_simple/sample_network_basic.ipynb#X15sZmlsZQ%3D%3D?line=5'>6</a>\u001b[0m loss \u001b[39m=\u001b[39m F\u001b[39m.\u001b[39mnll_loss(output, target)\n\u001b[1;32m----> <a href='vscode-notebook-cell:/c%3A/Users/jsandh/Documents/JMS/neural_n/pytorch_simple/sample_network_basic.ipynb#X15sZmlsZQ%3D%3D?line=6'>7</a>\u001b[0m loss\u001b[39m.\u001b[39;49mbackward()\n\u001b[0;32m      <a href='vscode-notebook-cell:/c%3A/Users/jsandh/Documents/JMS/neural_n/pytorch_simple/sample_network_basic.ipynb#X15sZmlsZQ%3D%3D?line=7'>8</a>\u001b[0m optimizer\u001b[39m.\u001b[39mstep()\n\u001b[0;32m      <a href='vscode-notebook-cell:/c%3A/Users/jsandh/Documents/JMS/neural_n/pytorch_simple/sample_network_basic.ipynb#X15sZmlsZQ%3D%3D?line=8'>9</a>\u001b[0m \u001b[39mif\u001b[39;00m batch_idx \u001b[39m%\u001b[39m log_interval \u001b[39m==\u001b[39m \u001b[39m0\u001b[39m:\n",
      "File \u001b[1;32mc:\\Users\\jsandh\\AppData\\Local\\Programs\\Python\\Python38\\lib\\site-packages\\torch\\_tensor.py:488\u001b[0m, in \u001b[0;36mTensor.backward\u001b[1;34m(self, gradient, retain_graph, create_graph, inputs)\u001b[0m\n\u001b[0;32m    478\u001b[0m \u001b[39mif\u001b[39;00m has_torch_function_unary(\u001b[39mself\u001b[39m):\n\u001b[0;32m    479\u001b[0m     \u001b[39mreturn\u001b[39;00m handle_torch_function(\n\u001b[0;32m    480\u001b[0m         Tensor\u001b[39m.\u001b[39mbackward,\n\u001b[0;32m    481\u001b[0m         (\u001b[39mself\u001b[39m,),\n\u001b[1;32m   (...)\u001b[0m\n\u001b[0;32m    486\u001b[0m         inputs\u001b[39m=\u001b[39minputs,\n\u001b[0;32m    487\u001b[0m     )\n\u001b[1;32m--> 488\u001b[0m torch\u001b[39m.\u001b[39;49mautograd\u001b[39m.\u001b[39;49mbackward(\n\u001b[0;32m    489\u001b[0m     \u001b[39mself\u001b[39;49m, gradient, retain_graph, create_graph, inputs\u001b[39m=\u001b[39;49minputs\n\u001b[0;32m    490\u001b[0m )\n",
      "File \u001b[1;32mc:\\Users\\jsandh\\AppData\\Local\\Programs\\Python\\Python38\\lib\\site-packages\\torch\\autograd\\__init__.py:197\u001b[0m, in \u001b[0;36mbackward\u001b[1;34m(tensors, grad_tensors, retain_graph, create_graph, grad_variables, inputs)\u001b[0m\n\u001b[0;32m    192\u001b[0m     retain_graph \u001b[39m=\u001b[39m create_graph\n\u001b[0;32m    194\u001b[0m \u001b[39m# The reason we repeat same the comment below is that\u001b[39;00m\n\u001b[0;32m    195\u001b[0m \u001b[39m# some Python versions print out the first line of a multi-line function\u001b[39;00m\n\u001b[0;32m    196\u001b[0m \u001b[39m# calls in the traceback and some print out the last line\u001b[39;00m\n\u001b[1;32m--> 197\u001b[0m Variable\u001b[39m.\u001b[39;49m_execution_engine\u001b[39m.\u001b[39;49mrun_backward(  \u001b[39m# Calls into the C++ engine to run the backward pass\u001b[39;49;00m\n\u001b[0;32m    198\u001b[0m     tensors, grad_tensors_, retain_graph, create_graph, inputs,\n\u001b[0;32m    199\u001b[0m     allow_unreachable\u001b[39m=\u001b[39;49m\u001b[39mTrue\u001b[39;49;00m, accumulate_grad\u001b[39m=\u001b[39;49m\u001b[39mTrue\u001b[39;49;00m)\n",
      "\u001b[1;31mKeyboardInterrupt\u001b[0m: "
     ]
    }
   ],
   "source": [
    "test()\n",
    "for epoch in range(1, epochs + 1):\n",
    "    train(epoch)\n",
    "    test()"
   ]
  },
  {
   "cell_type": "code",
   "execution_count": null,
   "metadata": {},
   "outputs": [],
   "source": [
    "fig = plt.figure(figsize=(10, 5))\n",
    "plt.plot(train_counter, train_losses, color=\"blue\")\n",
    "plt.scatter(test_counter, test_losses, color=\"red\")\n",
    "plt.legend([\"Train Loss\", \"Test Loss\"], loc=\"upper right\")\n",
    "plt.xlabel(\"number of training examples seen\")\n",
    "plt.ylabel(\"negative log likelihood loss\")\n",
    "fig.show()"
   ]
  },
  {
   "cell_type": "code",
   "execution_count": null,
   "metadata": {},
   "outputs": [],
   "source": [
    "with torch.no_grad():\n",
    "    output = network(example_data)"
   ]
  },
  {
   "cell_type": "code",
   "execution_count": null,
   "metadata": {},
   "outputs": [],
   "source": [
    "fig = plt.figure()\n",
    "for i in range(6):\n",
    "    plt.subplot(2, 3, i + 1)\n",
    "    plt.tight_layout()\n",
    "    plt.imshow(example_data[i][0], cmap=\"gray\", interpolation=\"none\")\n",
    "    plt.title(\"Prediction: {}\".format(output.data.max(1, keepdim=True)[1][i].item()))\n",
    "    plt.xticks([])\n",
    "    plt.yticks([])\n",
    "fig"
   ]
  },
  {
   "cell_type": "code",
   "execution_count": null,
   "metadata": {},
   "outputs": [],
   "source": [
    "#Continued training\n",
    "continued_network = NeuralNetwork()\n",
    "continued_optimizer = optim.SGD(network.parameters(), lr=learning_rate,\n",
    "                                momentum=momentum)"
   ]
  },
  {
   "cell_type": "code",
   "execution_count": null,
   "metadata": {},
   "outputs": [],
   "source": [
    "network_state_dict = torch.load(\"./results/model.pth\")\n",
    "continued_network.load_state_dict(network_state_dict)\n",
    "optimizer_state_dict = torch.load(\"./results/optimizer.pth\")\n",
    "continued_optimizer.load_state_dict(optimizer_state_dict)\n"
   ]
  }
 ],
 "metadata": {
  "kernelspec": {
   "display_name": "Python 3",
   "language": "python",
   "name": "python3"
  },
  "language_info": {
   "codemirror_mode": {
    "name": "ipython",
    "version": 3
   },
   "file_extension": ".py",
   "mimetype": "text/x-python",
   "name": "python",
   "nbconvert_exporter": "python",
   "pygments_lexer": "ipython3",
   "version": "3.8.10"
  },
  "orig_nbformat": 4,
  "vscode": {
   "interpreter": {
    "hash": "39739dead8b6e157ed7676b80302e88909c39a480c510e352b9abc4b517711ff"
   }
  }
 },
 "nbformat": 4,
 "nbformat_minor": 2
}
